{
 "cells": [
  {
   "cell_type": "code",
   "execution_count": null,
   "id": "04f022b1-7026-4e3d-80ca-6d0b1e4e6d86",
   "metadata": {},
   "outputs": [],
   "source": [
    "#python stemmimg example"
   ]
  },
  {
   "cell_type": "code",
   "execution_count": 10,
   "id": "de04b318-b166-4385-9f31-ffcc87717bb3",
   "metadata": {},
   "outputs": [
    {
     "name": "stderr",
     "output_type": "stream",
     "text": [
      "[nltk_data] Downloading package punkt to /home/nmit/nltk_data...\n",
      "[nltk_data]   Package punkt is already up-to-date!\n"
     ]
    },
    {
     "data": {
      "text/plain": [
       "True"
      ]
     },
     "execution_count": 10,
     "metadata": {},
     "output_type": "execute_result"
    }
   ],
   "source": [
    "import nltk\n",
    "from nltk.stem import PorterStemmer\n",
    "nltk.download(\"punkt\")"
   ]
  },
  {
   "cell_type": "code",
   "execution_count": 11,
   "id": "4d6cd3df-b880-4273-a053-03814973299e",
   "metadata": {},
   "outputs": [],
   "source": [
    "# Initialize Python porter stemmer\n",
    "ps = PorterStemmer()"
   ]
  },
  {
   "cell_type": "code",
   "execution_count": 13,
   "id": "a7d8c942-d10b-4e5b-95ba-1bf9eee60045",
   "metadata": {},
   "outputs": [],
   "source": [
    "# Example inflections to reduce\n",
    "example_words = [\"program\",\"programming\",\"programer\",\"programs\",\"programmed\"]"
   ]
  },
  {
   "cell_type": "code",
   "execution_count": 14,
   "id": "24dc4801-cdca-4dcd-bc1c-d478b21e8f06",
   "metadata": {},
   "outputs": [
    {
     "name": "stdout",
     "output_type": "stream",
     "text": [
      "--Word--            --Stem--            \n",
      "program             program             \n",
      "programming         program             \n",
      "programer           program             \n",
      "programs            program             \n",
      "programmed          program             \n"
     ]
    }
   ],
   "source": [
    "# Perform stemming\n",
    "print(\"{0:20}{1:20}\".format(\"--Word--\",\"--Stem--\"))\n",
    "for word in example_words:\n",
    "   print (\"{0:20}{1:20}\".format(word, ps.stem(word)))"
   ]
  },
  {
   "cell_type": "code",
   "execution_count": 15,
   "id": "6bc1e43b-865e-46e5-9d1e-3c5bb0851236",
   "metadata": {},
   "outputs": [],
   "source": [
    "#python tokenise example"
   ]
  },
  {
   "cell_type": "code",
   "execution_count": 16,
   "id": "557758db-860c-4e81-97a5-f04caffd50f1",
   "metadata": {},
   "outputs": [],
   "source": [
    "import string\n",
    "from nltk.tokenize import word_tokenize"
   ]
  },
  {
   "cell_type": "code",
   "execution_count": 17,
   "id": "f353449c-bcd9-4103-b660-62353cadd757",
   "metadata": {},
   "outputs": [],
   "source": [
    "example_sentence = \"Python programmers often tend like programming in python because it's like english. We call people who program in python pythonistas.\""
   ]
  },
  {
   "cell_type": "code",
   "execution_count": 18,
   "id": "caadbbf1-b7a8-47c3-8348-af88db1fabf4",
   "metadata": {},
   "outputs": [],
   "source": [
    "# Remove punctuation\n",
    "example_sentence_no_punct = example_sentence.translate(str.maketrans(\"\", \"\", string.punctuation))"
   ]
  },
  {
   "cell_type": "code",
   "execution_count": 19,
   "id": "d605cedb-4648-47d8-90a7-8cca2db0308a",
   "metadata": {},
   "outputs": [],
   "source": [
    "# Create tokens\n",
    "word_tokens = word_tokenize(example_sentence_no_punct)"
   ]
  },
  {
   "cell_type": "code",
   "execution_count": 20,
   "id": "5e2267c8-4d45-472d-ab7c-4521ede9f0ed",
   "metadata": {},
   "outputs": [
    {
     "name": "stdout",
     "output_type": "stream",
     "text": [
      "--Word--            --Stem--            \n",
      "Python              python              \n",
      "programmers         programm            \n",
      "often               often               \n",
      "tend                tend                \n",
      "like                like                \n",
      "programming         program             \n",
      "in                  in                  \n",
      "python              python              \n",
      "because             becaus              \n",
      "its                 it                  \n",
      "like                like                \n",
      "english             english             \n",
      "We                  we                  \n",
      "call                call                \n",
      "people              peopl               \n",
      "who                 who                 \n",
      "program             program             \n",
      "in                  in                  \n",
      "python              python              \n",
      "pythonistas         pythonista          \n"
     ]
    }
   ],
   "source": [
    "# Perform stemming\n",
    "print(\"{0:20}{1:20}\".format(\"--Word--\",\"--Stem--\"))\n",
    "for word in word_tokens:\n",
    "    print (\"{0:20}{1:20}\".format(word, ps.stem(word)))"
   ]
  },
  {
   "cell_type": "code",
   "execution_count": 21,
   "id": "0a9b95db-8e11-4581-88be-7923d30047fc",
   "metadata": {},
   "outputs": [],
   "source": [
    "#Python Lemmatization example"
   ]
  },
  {
   "cell_type": "code",
   "execution_count": 22,
   "id": "d5124285-3aa4-4c5b-9b49-052dea060a78",
   "metadata": {},
   "outputs": [
    {
     "name": "stderr",
     "output_type": "stream",
     "text": [
      "[nltk_data] Downloading package wordnet to /home/nmit/nltk_data...\n",
      "[nltk_data]   Package wordnet is already up-to-date!\n",
      "[nltk_data] Downloading package omw-1.4 to /home/nmit/nltk_data...\n"
     ]
    },
    {
     "data": {
      "text/plain": [
       "True"
      ]
     },
     "execution_count": 22,
     "metadata": {},
     "output_type": "execute_result"
    }
   ],
   "source": [
    "from nltk.stem import WordNetLemmatizer\n",
    "nltk.download(\"wordnet\")\n",
    "nltk.download(\"omw-1.4\")"
   ]
  },
  {
   "cell_type": "code",
   "execution_count": 23,
   "id": "d905a49f-50a5-46d3-a713-54f1cc2e7d83",
   "metadata": {},
   "outputs": [],
   "source": [
    "# Initialize wordnet lemmatizer\n",
    "wnl = WordNetLemmatizer()"
   ]
  },
  {
   "cell_type": "code",
   "execution_count": 24,
   "id": "84c24f86-7b33-4c14-b649-7db3a2bde5bf",
   "metadata": {},
   "outputs": [],
   "source": [
    "# Example inflections to reduce\n",
    "example_words = [\"program\",\"programming\",\"programer\",\"programs\",\"programmed\"]"
   ]
  },
  {
   "cell_type": "code",
   "execution_count": 25,
   "id": "55235abc-134c-4eaf-953f-4106bb8ab0fc",
   "metadata": {},
   "outputs": [
    {
     "name": "stdout",
     "output_type": "stream",
     "text": [
      "--Word--            --Lemma--           \n",
      "program             program             \n",
      "programming         program             \n",
      "programer           programer           \n",
      "programs            program             \n",
      "programmed          program             \n"
     ]
    }
   ],
   "source": [
    "# Perform lemmatization\n",
    "print(\"{0:20}{1:20}\".format(\"--Word--\",\"--Lemma--\"))\n",
    "for word in example_words:\n",
    "   print (\"{0:20}{1:20}\".format(word, wnl.lemmatize(word, pos=\"v\")))"
   ]
  },
  {
   "cell_type": "code",
   "execution_count": null,
   "id": "eea9ab5e-8151-452b-a212-e8e4af7e0274",
   "metadata": {},
   "outputs": [],
   "source": []
  }
 ],
 "metadata": {
  "kernelspec": {
   "display_name": "Python 3 (ipykernel)",
   "language": "python",
   "name": "python3"
  },
  "language_info": {
   "codemirror_mode": {
    "name": "ipython",
    "version": 3
   },
   "file_extension": ".py",
   "mimetype": "text/x-python",
   "name": "python",
   "nbconvert_exporter": "python",
   "pygments_lexer": "ipython3",
   "version": "3.11.5"
  }
 },
 "nbformat": 4,
 "nbformat_minor": 5
}
